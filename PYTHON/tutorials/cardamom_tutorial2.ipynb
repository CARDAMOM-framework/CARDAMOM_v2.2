{
 "cells": [
  {
   "cell_type": "markdown",
   "metadata": {},
   "source": [
    "# Introduction to CARDAMOM runs: running a local assimilation and forward run\n",
    "This tutorial will show the basic set up to run a CARDAMOM assimilation and forward run from the command line. This is set up for mac/linux.\n",
    "\n",
    "## Basic Steps:\n",
    "1. Download/git-clone a copy of CARDAMOM\n",
    "2. Compile the c-code of CARDAMOM (make sure to do this after any changes)\n",
    "3. Run compiled file for assimilation with a pointer towards the input (.cbf) and parameters (.cbr) locations.\n",
    "4. With a parameters file, run a compiled file for a forward run to retrieve the outputs of your parameter ensemble. Point required for outputs (.bin).\n",
    "5. Common practice is to organize input, parameter and output files in:\n",
    "    topfolder/cbf/*.cbf\n",
    "    topfolder/cbr/*.cbr\n",
    "    topfolder/output/*.bin"
   ]
  },
  {
   "cell_type": "markdown",
   "metadata": {},
   "source": [
    "### Folder structure for the tutorial"
   ]
  },
  {
   "cell_type": "code",
   "execution_count": 6,
   "metadata": {},
   "outputs": [],
   "source": [
    "# Other import here for name lists?\n",
    "import os\n",
    "import sys\n",
    "import subprocess\n",
    "MACHDIR = os.path.expanduser(\"~\")\n",
    "\n",
    "dir_script = '../cardamom_utilities/readwritebinary'\n",
    "sys.path.append(dir_script)\n",
    "\n",
    "\n",
    "\n",
    "# Location of the local CARDAMOM repository\n",
    "# Location of git repository: email: gquetin@stanford.edu\n",
    "dircardamom = '/Users/gquetin/repos/models/cardamom_share/' #<< update this for your CARDAMOM location\n",
    "\n",
    "# define the directory where the test data is (require someone to input their home directory)\n",
    "dirbinary = './data/inputoutput_point/'\n",
    "\n",
    "# By convention, CARDAMOM outputs are separate into a cbf (input) directory, \n",
    "# a cbr (parameters) directory, and an output directory\n",
    "dir_cbf = dirbinary + 'cbf/'\n",
    "dir_cbr = dirbinary + 'cbr/'\n",
    "dir_output = dirbinary + 'output/'"
   ]
  },
  {
   "cell_type": "markdown",
   "metadata": {},
   "source": [
    "### Compile CARDAMOM"
   ]
  },
  {
   "cell_type": "code",
   "execution_count": 5,
   "metadata": {},
   "outputs": [
    {
     "name": "stdout",
     "output_type": "stream",
     "text": [
      "The exit code was: 0\n",
      "The exit code was: 0\n"
     ]
    }
   ],
   "source": [
    "# Compile code\n",
    "# Can run something like these in command line:\n",
    "# gcc -std=c99 CARDAMOM/C/projects/CARDAMOM_GENERAL/CARDAMOM_RUN_MODEL.c -o CARDAMOM/C/projects/CARDAMOM_GENERAL/CARDAMOM_RUN_MODEL.exe -lm\n",
    "# gcc -std=c99 CARDAMOM/C/projects/CARDAMOM_MDF/CARDAMOM_MDF.c -o CARDAMOM/C/projects/CARDAMOM_MDF/CARDAMOM_MDF.exe -lm\n",
    "# Or create .bash file similar to: \"CARDAMOM_compile.sh\"\n",
    "\n",
    "# For the forward run executable\n",
    "exitcode_forward = subprocess.run([\"gcc\", \n",
    "                                   \"-std=c99\",\n",
    "                                   dircardamom + \"CARDAMOM/C/projects/CARDAMOM_GENERAL/CARDAMOM_RUN_MODEL.c\",\n",
    "                                   \"-o\",\n",
    "                                   dircardamom + \"CARDAMOM/C/projects/CARDAMOM_GENERAL/CARDAMOM_RUN_MODEL.exe\", \n",
    "                                   \"-lm\"])\n",
    "\n",
    "exitcode_assim = subprocess.run([\"gcc\", \n",
    "                                 \"-std=c99\",\n",
    "                                 dircardamom + \"CARDAMOM/C/projects/CARDAMOM_MDF/CARDAMOM_MDF.c\",\n",
    "                                 \"-o\",\n",
    "                                 dircardamom + \"CARDAMOM/C/projects/CARDAMOM_MDF/CARDAMOM_MDF.exe\", \n",
    "                                 \"-lm\"])\n",
    "\n",
    "# As long as the exit code == 0, you now have a compiled version of CARDAMOM ready to run.\n",
    "print(\"The exit code was: %d\" % exitcode_forward.returncode)\n",
    "print(\"The exit code was: %d\" % exitcode_assim.returncode)\n",
    "\n"
   ]
  },
  {
   "cell_type": "markdown",
   "metadata": {},
   "source": [
    "### Run CARDAMOM Assimilation and Forward Run\n",
    "This is for running CARDAMOM at one point and locally, <> see Sherlock tutorial for helpful scripts when running many points.\n",
    "\n",
    "By convention, when running CARDAMOM at multiple spatial points, the 4 digits at the end of the name are reserved for the row and column of thos spatial points on a grid. For point runs leave '0000'. For cbr files the last digit is reserved for the chain number being run\n",
    "\n",
    "Naming convention for outputs:\n",
    "1. Fluxes - 'fluxfile'\n",
    "2. Pools - 'poolfile'\n",
    "3. EDCD pass/no pass - 'edcdfile'\n",
    "4. Probabilities from cost function - 'probfile'"
   ]
  },
  {
   "cell_type": "code",
   "execution_count": 4,
   "metadata": {},
   "outputs": [
    {
     "name": "stdout",
     "output_type": "stream",
     "text": [
      "Submit for assimilation runs: \n",
      "/Users/gquetin/repos/models/cardamom_share/CARDAMOM/C/projects/CARDAMOM_MDF/CARDAMOM_MDF.exe ./data/inputoutput_point/cbf/test_1962.cbf ./data/inputoutput_point/cbr/test_1962_0.cbr 100000 0 200 .001 119 1000\n",
      "\n",
      "Submit for forward runs: \n",
      "/Users/gquetin/repos/models/cardamom_share/CARDAMOM/C/projects/CARDAMOM_GENERAL/CARDAMOM_RUN_MODEL.exe ./data/inputoutput_point/cbf/test_1962.cbf ./data/inputoutput_point/cbr/test_1962_0.cbr ./data/inputoutput_point/output/_fluxfile_test_1962_0 ./data/inputoutput_point/output/_poolfile_test_1962_0 ./data/inputoutput_point/output/_edcdfile_test_1962_0 ./data/inputoutput_point/output/_probfile_test_1962_0\n"
     ]
    }
   ],
   "source": [
    "\n",
    "executable_assim = dircardamom + \"CARDAMOM/C/projects/CARDAMOM_MDF/CARDAMOM_MDF.exe\"\n",
    "cardamom_cbf = dir_cbf + 'test_1962.cbf'\n",
    "cardamom_cbr = dir_cbr + 'test_1962_0.cbr'\n",
    "\n",
    "# Command line settings\n",
    "# From command line:\n",
    "# /Users/gquetin/repos/models/cardamom_share/CARDAMOM/C/projects/CARDAMOM_MDF/CARDAMOM_MDF.exe /Users/gquetin/Google\\ Drive/DATA/DALEC/harvard_test/lai_bias/cbf/e1a_USHa1_id821_test_coplai_div100_lwbias100_0000.cbf /Users/gquetin/Google\\ Drive/DATA/DALEC/harvard_test/lai_bias/cbr/e1a_USHa1_id821_test_coplai_div100_lwbias100_testtest_0000.cbr 100000 0 200 0.001 119 1000\n",
    "number_iterations = \"100000\" # Small numbers for test, 100000000 standard run, will take a long time.\n",
    "printrate = \"0\" #\n",
    "samplerate = \"200\" # Number of output parameters = number_iterations/samplerate, generally use between 500 and 1000 output parameters\n",
    "minimum_step_size = \".001\" # Relates to MCMC, standard is currently .001\n",
    "mcmcid = \"119\" # Current default MCMC method is 119\n",
    "nadapt = \"1000\" # MCMC setting, standard is 1000\n",
    "\n",
    "# Run assimilation\n",
    "cmdline_submit_assim = [executable_assim,\n",
    "                        cardamom_cbf,\n",
    "                        cardamom_cbr,\n",
    "                        number_iterations,\n",
    "                        printrate,\n",
    "                        samplerate,\n",
    "                        minimum_step_size,\n",
    "                        mcmcid,\n",
    "                        nadapt]\n",
    "\n",
    "\n",
    "print('Submit for assimilation runs: \\n' +\n",
    "      \" \".join(cmdline_submit_assim)+'\\n')\n",
    "\n",
    "# Running from python currently not set up\n",
    "#exitcode_assim = subprocess.run(cmdline_submit_assim)                               \n",
    "#print(\"The exit code was: %d\" % exitcode_assim.returncode)                                 \n",
    "                                 \n",
    "                                 \n",
    "# Forward run\n",
    "# Example for command line\n",
    "# /Users/gquetin/repos/models/cardamom_share/CARDAMOM/C/projects/CARDAMOM_GENERAL/CARDAMOM_RUN_MODEL.exe /Users/gquetin/Google\\ Drive/DATA/DALEC/harvard_test/lai_bias/cbf/e1a_USHa1_id821_test_coplai_div100_lwbias100_0000.cbf /Users/gquetin/Google\\ Drive/DATA/DALEC/harvard_test/lai_bias/cbr/e1a_USHa1_id821_test_coplai_div100_lwbias100_0000.cbr /Users/gquetin/Google\\ Drive/DATA/DALEC/harvard_test/lai_bias/output/fluxfile_e1a_USHa1_id821_test_coplai_div100_lwbias100_0000_1.bin /Users/gquetin/Google\\ Drive/DATA/DALEC/harvard_test/lai_bias/output/poolfile_e1a_USHa1_id821_test_coplai_div100_lwbias100_0000_1.bin /Users/gquetin/Google\\ Drive/DATA/DALEC/harvard_test/lai_bias/output/edcdfile_e1a_USHa1_id821_test_coplai_div100_lwbias100_0000_1.bin /Users/gquetin/Google\\ Drive/DATA/DALEC/harvard_test/lai_bias/output/probfile_e1a_USHa1_id821_test_coplai_div100_lwbias100_0000_1.bin\n",
    "\n",
    "# File setup\n",
    "executable_forward = dircardamom + \"CARDAMOM/C/projects/CARDAMOM_GENERAL/CARDAMOM_RUN_MODEL.exe\"\n",
    "\n",
    "basename = \"test\"\n",
    "locpoint = \"1962\"\n",
    "chain_number = \"0\"\n",
    "cardamom_output_flux = \"{}_{}_{}_{}_{}\".format(dir_output,'fluxfile',basename,locpoint,chain_number)\n",
    "cardamom_output_pool = \"{}_{}_{}_{}_{}\".format(dir_output,'poolfile',basename,locpoint,chain_number)\n",
    "cardamom_output_edcd = \"{}_{}_{}_{}_{}\".format(dir_output,'edcdfile',basename,locpoint,chain_number)\n",
    "cardamom_output_prob = \"{}_{}_{}_{}_{}\".format(dir_output,'probfile',basename,locpoint,chain_number)\n",
    "\n",
    "\n",
    "cmdline_submit_forward = [executable_forward,\n",
    "                          cardamom_cbf,\n",
    "                          cardamom_cbr,\n",
    "                          cardamom_output_flux,\n",
    "                          cardamom_output_pool,\n",
    "                          cardamom_output_edcd,\n",
    "                          cardamom_output_prob]\n",
    "\n",
    "print('Submit for forward runs: \\n' +\n",
    "      \" \".join(cmdline_submit_forward))\n",
    "\n",
    "# Running from python currently not set up\n",
    "#exitcode_forward = subprocess.run()                              \n",
    "#print(\"The exit code was: %d\" % exitcode_forward.returncode)   \n",
    "\n"
   ]
  },
  {
   "cell_type": "code",
   "execution_count": null,
   "metadata": {},
   "outputs": [],
   "source": []
  }
 ],
 "metadata": {
  "kernelspec": {
   "display_name": "Python 3",
   "language": "python",
   "name": "python3"
  },
  "language_info": {
   "codemirror_mode": {
    "name": "ipython",
    "version": 3
   },
   "file_extension": ".py",
   "mimetype": "text/x-python",
   "name": "python",
   "nbconvert_exporter": "python",
   "pygments_lexer": "ipython3",
   "version": "3.5.6"
  }
 },
 "nbformat": 4,
 "nbformat_minor": 2
}
